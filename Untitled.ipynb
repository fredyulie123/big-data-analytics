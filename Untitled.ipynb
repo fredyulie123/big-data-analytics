{
 "cells": [
  {
   "cell_type": "markdown",
   "metadata": {},
   "source": [
    "## Problem 1"
   ]
  },
  {
   "cell_type": "code",
   "execution_count": 1,
   "metadata": {},
   "outputs": [
    {
     "name": "stdout",
     "output_type": "stream",
     "text": [
      "Please input the word:dragon\n"
     ]
    }
   ],
   "source": [
    "eng_word = str(input('Please input the word:'))\n",
    "vowel_list1 = ['a','e','i','o','u']\n",
    "vowel_list2 = ['a','e','i','o','u','y']"
   ]
  },
  {
   "cell_type": "code",
   "execution_count": 2,
   "metadata": {},
   "outputs": [
    {
     "name": "stdout",
     "output_type": "stream",
     "text": [
      "['d', 'r', 'a', 'g', 'o', 'n']\n"
     ]
    }
   ],
   "source": [
    "alpha = list(eng_word.lower())\n",
    "print(alpha)"
   ]
  },
  {
   "cell_type": "code",
   "execution_count": 3,
   "metadata": {},
   "outputs": [
    {
     "name": "stdout",
     "output_type": "stream",
     "text": [
      "2 4\n"
     ]
    }
   ],
   "source": [
    "vowel_num = 0\n",
    "non_vowel = 0\n",
    "for e in alpha:\n",
    "    if alpha[0]=='y':\n",
    "        if e in vowel_list1:\n",
    "            vowel_num +=1\n",
    "        else:\n",
    "            non_vowel +=1\n",
    "    else:\n",
    "        if e in vowel_list2:\n",
    "            vowel_num +=1\n",
    "        else:\n",
    "            non_vowel +=1\n",
    "print(vowel_num, non_vowel)"
   ]
  },
  {
   "cell_type": "code",
   "execution_count": 4,
   "metadata": {},
   "outputs": [
    {
     "name": "stdout",
     "output_type": "stream",
     "text": [
      "Please input the sentence you want to change to code:\n",
      ">>Alligators that can launch airplanes may prosper\n"
     ]
    }
   ],
   "source": [
    "input_s = str(input('Please input the sentence you want to change to code:\\n>>'))"
   ]
  },
  {
   "cell_type": "code",
   "execution_count": 5,
   "metadata": {},
   "outputs": [
    {
     "data": {
      "text/plain": [
       "'PMALCTA'"
      ]
     },
     "execution_count": 5,
     "metadata": {},
     "output_type": "execute_result"
    }
   ],
   "source": [
    "words = input_s.split()\n",
    "code_list = []\n",
    "for a in range(0,len(words)):\n",
    "    code = words[a][0].upper()\n",
    "    code_list.append(code)\n",
    "str = ''\n",
    "m = str.join(code_list)\n",
    "m[::-1]"
   ]
  },
  {
   "cell_type": "code",
   "execution_count": 10,
   "metadata": {},
   "outputs": [
    {
     "name": "stdout",
     "output_type": "stream",
     "text": [
      "please input word 1:Words\n",
      "please input word 2:word\n"
     ]
    },
    {
     "data": {
      "text/plain": [
       "0.8"
      ]
     },
     "execution_count": 10,
     "metadata": {},
     "output_type": "execute_result"
    }
   ],
   "source": [
    "def js(word_1,word_2):\n",
    "    w1 = set(word_1)\n",
    "    w2 = set(word_2)\n",
    "    return len(w1.intersection(w2)) / len(w1.union(w2))\n",
    "word_1 = input('please input word 1:').lower()\n",
    "word_2 = input('please input word 2:').lower()\n",
    "\n",
    "js(word_1,word_2)"
   ]
  },
  {
   "cell_type": "code",
   "execution_count": null,
   "metadata": {},
   "outputs": [],
   "source": []
  },
  {
   "cell_type": "code",
   "execution_count": null,
   "metadata": {},
   "outputs": [],
   "source": []
  }
 ],
 "metadata": {
  "kernelspec": {
   "display_name": "Python 3",
   "language": "python",
   "name": "python3"
  },
  "language_info": {
   "codemirror_mode": {
    "name": "ipython",
    "version": 3
   },
   "file_extension": ".py",
   "mimetype": "text/x-python",
   "name": "python",
   "nbconvert_exporter": "python",
   "pygments_lexer": "ipython3",
   "version": "3.7.3"
  }
 },
 "nbformat": 4,
 "nbformat_minor": 2
}
